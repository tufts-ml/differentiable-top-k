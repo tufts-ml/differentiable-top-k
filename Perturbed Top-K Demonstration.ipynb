{
 "cells": [
  {
   "cell_type": "code",
   "execution_count": 58,
   "id": "b8a428bb",
   "metadata": {},
   "outputs": [
    {
     "name": "stdout",
     "output_type": "stream",
     "text": [
      "The autoreload extension is already loaded. To reload it, use:\n",
      "  %reload_ext autoreload\n"
     ]
    }
   ],
   "source": [
    "%load_ext autoreload\n",
    "%autoreload 2\n",
    "\n",
    "import tensorflow as tf\n",
    "\n",
    "import create_data\n",
    "# Requires having perturbations.py from: \n",
    "# https://github.com/google-research/google-research/tree/master/perturbations on your path\n",
    "from create_model import create_model\n",
    "from data_utils import plot_data_row"
   ]
  },
  {
   "cell_type": "markdown",
   "id": "1c05adcc",
   "metadata": {},
   "source": [
    "We can generate synthetic data"
   ]
  },
  {
   "cell_type": "code",
   "execution_count": 51,
   "id": "bebf7d03",
   "metadata": {},
   "outputs": [],
   "source": [
    "x, y, x_valid, y_valid = create_data.main(num_samples=5000, num_vals=9, out_dir='./', seed=360)"
   ]
  },
  {
   "cell_type": "markdown",
   "id": "c71b9cc5",
   "metadata": {},
   "source": [
    "And visualize rows of the data. The circled numbers are the \"Most yellow\""
   ]
  },
  {
   "cell_type": "code",
   "execution_count": 52,
   "id": "2bebf5c1",
   "metadata": {},
   "outputs": [
    {
     "data": {
      "image/png": "[encoded data removed]",
      "text/plain": [
       "<Figure size 200x200 with 9 Axes>"
      ]
     },
     "metadata": {},
     "output_type": "display_data"
    }
   ],
   "source": [
    "fig = plot_data_row(x[0])"
   ]
  },
  {
   "cell_type": "code",
   "execution_count": 54,
   "id": "5beb4bd2",
   "metadata": {},
   "outputs": [
    {
     "name": "stdout",
     "output_type": "stream",
     "text": [
      "WARNING:tensorflow:AutoGraph could not transform <function perturbed.<locals>.wrapper at 0x2ad25e17daf0> and will run it as-is.\n",
      "Please report this to the TensorFlow team. When filing the bug, set the verbosity to 10 (on Linux, `export AUTOGRAPH_VERBOSITY=10`) and attach the full output.\n",
      "Cause: module, class, method, function, traceback, frame, or code object was expected, got partial\n",
      "To silence this warning, decorate the function with @tf.autograph.experimental.do_not_convert\n",
      "WARNING: AutoGraph could not transform <function perturbed.<locals>.wrapper at 0x2ad25e17daf0> and will run it as-is.\n",
      "Please report this to the TensorFlow team. When filing the bug, set the verbosity to 10 (on Linux, `export AUTOGRAPH_VERBOSITY=10`) and attach the full output.\n",
      "Cause: module, class, method, function, traceback, frame, or code object was expected, got partial\n",
      "To silence this warning, decorate the function with @tf.autograph.experimental.do_not_convert\n"
     ]
    }
   ],
   "source": [
    "topk_model = create_model(num_vals=9, hidden_sizes=[25, 10], use_topk=True,\n",
    "                          sigma_perturb=0.05)\n",
    "shortcut_model = create_model(num_vals=9, hidden_sizes=[25, 10], use_topk=False)\n",
    "topk_optimizer = tf.optimizers.Adam(learning_rate=0.001)\n",
    "shortcut_optimizer = tf.optimizers.Adam(learning_rate=0.01)"
   ]
  },
  {
   "cell_type": "code",
   "execution_count": 55,
   "id": "a8a2099c",
   "metadata": {},
   "outputs": [],
   "source": [
    "topk_model.compile(optimizer=topk_optimizer, loss='mse')\n",
    "shortcut_model.compile(optimizer=shortcut_optimizer, loss='mse')"
   ]
  },
  {
   "cell_type": "code",
   "execution_count": 56,
   "id": "3b78531b",
   "metadata": {},
   "outputs": [
    {
     "name": "stdout",
     "output_type": "stream",
     "text": [
      "Epoch 1/10\n",
      "10/10 [==============================] - 4s 384ms/step - loss: 16.0213 - val_loss: 15.0438\n",
      "Epoch 2/10\n",
      "10/10 [==============================] - 4s 384ms/step - loss: 14.8549 - val_loss: 14.4351\n",
      "Epoch 3/10\n",
      "10/10 [==============================] - 4s 372ms/step - loss: 14.1438 - val_loss: 13.8377\n",
      "Epoch 4/10\n",
      "10/10 [==============================] - 4s 379ms/step - loss: 13.6193 - val_loss: 13.4297\n",
      "Epoch 5/10\n",
      "10/10 [==============================] - 4s 382ms/step - loss: 13.2809 - val_loss: 13.1936\n",
      "Epoch 6/10\n",
      "10/10 [==============================] - 4s 375ms/step - loss: 13.0075 - val_loss: 12.9539\n",
      "Epoch 7/10\n",
      "10/10 [==============================] - 4s 386ms/step - loss: 12.8285 - val_loss: 12.7951\n",
      "Epoch 8/10\n",
      "10/10 [==============================] - 4s 377ms/step - loss: 12.6287 - val_loss: 12.6142\n",
      "Epoch 9/10\n",
      "10/10 [==============================] - 4s 379ms/step - loss: 12.4621 - val_loss: 12.5251\n",
      "Epoch 10/10\n",
      "10/10 [==============================] - 4s 386ms/step - loss: 12.3319 - val_loss: 12.4012\n"
     ]
    },
    {
     "data": {
      "text/plain": [
       "<keras.callbacks.History at 0x2ad25e2be130>"
      ]
     },
     "execution_count": 56,
     "metadata": {},
     "output_type": "execute_result"
    }
   ],
   "source": [
    "topk_model.fit(x=x, y=y, epochs=10, batch_size=512,\n",
    "              validation_data=(x_valid, y_valid))"
   ]
  },
  {
   "cell_type": "code",
   "execution_count": 57,
   "id": "2d9927fb",
   "metadata": {},
   "outputs": [
    {
     "name": "stdout",
     "output_type": "stream",
     "text": [
      "Epoch 1/10\n",
      "10/10 [==============================] - 1s 13ms/step - loss: 46.6814 - val_loss: 22.3648\n",
      "Epoch 2/10\n",
      "10/10 [==============================] - 0s 4ms/step - loss: 22.3022 - val_loss: 21.3234\n",
      "Epoch 3/10\n",
      "10/10 [==============================] - 0s 4ms/step - loss: 20.7771 - val_loss: 19.6331\n",
      "Epoch 4/10\n",
      "10/10 [==============================] - 0s 4ms/step - loss: 20.2386 - val_loss: 19.4064\n",
      "Epoch 5/10\n",
      "10/10 [==============================] - 0s 4ms/step - loss: 20.1171 - val_loss: 19.5322\n",
      "Epoch 6/10\n",
      "10/10 [==============================] - 0s 4ms/step - loss: 20.1255 - val_loss: 19.3537\n",
      "Epoch 7/10\n",
      "10/10 [==============================] - 0s 4ms/step - loss: 19.9886 - val_loss: 19.1759\n",
      "Epoch 8/10\n",
      "10/10 [==============================] - 0s 4ms/step - loss: 20.0384 - val_loss: 19.2048\n",
      "Epoch 9/10\n",
      "10/10 [==============================] - 0s 4ms/step - loss: 19.9524 - val_loss: 19.1240\n",
      "Epoch 10/10\n",
      "10/10 [==============================] - 0s 4ms/step - loss: 19.9000 - val_loss: 19.1248\n"
     ]
    },
    {
     "data": {
      "text/plain": [
       "<keras.callbacks.History at 0x2ad25e29a430>"
      ]
     },
     "execution_count": 57,
     "metadata": {},
     "output_type": "execute_result"
    }
   ],
   "source": [
    "shortcut_model.fit(x=x, y=y, epochs=10, batch_size=512,\n",
    "              validation_data=(x_valid, y_valid))"
   ]
  },
  {
   "cell_type": "code",
   "execution_count": null,
   "id": "585ea474",
   "metadata": {},
   "outputs": [],
   "source": []
  }
 ],
 "metadata": {
  "kernelspec": {
   "display_name": "Python 3 (ipykernel)",
   "language": "python",
   "name": "python3"
  },
  "language_info": {
   "codemirror_mode": {
    "name": "ipython",
    "version": 3
   },
   "file_extension": ".py",
   "mimetype": "text/x-python",
   "name": "python",
   "nbconvert_exporter": "python",
   "pygments_lexer": "ipython3",
   "version": "3.8.16"
  }
 },
 "nbformat": 4,
 "nbformat_minor": 5
}
